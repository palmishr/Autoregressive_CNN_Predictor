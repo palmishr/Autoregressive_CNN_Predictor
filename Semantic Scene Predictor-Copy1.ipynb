{
 "cells": [
  {
   "cell_type": "markdown",
   "metadata": {
    "toc": "true"
   },
   "source": [
    "# Table of Contents\n",
    " <p>"
   ]
  },
  {
   "cell_type": "markdown",
   "metadata": {},
   "source": [
    "All Proposed Models in the Paper (https://arxiv.org/abs/1703.07684v2):\n",
    "\n",
    "- X2X - Frame X(1:t) to frame X(t+1)\n",
    "\n",
    "- S2S - Semantic Seg S(1:t) to Semantic Seg S(t+1) \n",
    "\n",
    "- XS2X - (X(1:t),S(1:t)) to X(t+1)\n",
    "\n",
    "- XS2S - (X(1:t),S(1:t)) to S(t+1)\n",
    "\n",
    "- XS2XS - (X(1:t),S(1:t)) to X(t+1),S(t+1)\n",
    "\n",
    "\n",
    "Current model X2X (Simplest)\n",
    "\n",
    "X2X Architecture:\n",
    "\n",
    "- Multi-Scale model with scales: s_1 and s_2\n",
    "\n",
    "- Scale Module (A Conv Network)\n",
    "    - Layers: 4 (alternate between Conv  and ReLU)\n",
    "    - Output channels: C\n",
    "    - Feature Maps: 128, 256, 128 (C channels each)\n",
    "\n",
    "- s_1 Conv Kernal size: 3,3,3,3\n",
    "- s_2 Conv Kernal size: 5,3,3,5\n",
    "\n",
    "- Last non linear function: tanh (normalized RGB)\n",
    "\n",
    "- Output at s_1 is up-sampled and used as input to s_2\n"
   ]
  },
  {
   "cell_type": "code",
   "execution_count": 20,
   "metadata": {
    "collapsed": true
   },
   "outputs": [],
   "source": [
    "import sys\n",
    "sys.path.append('/Library/Frameworks/Python.framework/Versions/3.5/lib/python3.5/site-packages')\n",
    "sys.path.append('/Users/pmishra/anaconda3/lib/python3.5/site-packages ')"
   ]
  },
  {
   "cell_type": "code",
   "execution_count": 21,
   "metadata": {
    "collapsed": false
   },
   "outputs": [],
   "source": [
    "from keras.models import Sequential\n",
    "from keras.layers import Dense\n",
    "from keras.layers import Flatten\n",
    "from keras.constraints import maxnorm\n",
    "from keras.optimizers import SGD\n",
    "from keras.layers.convolutional import Conv2D\n",
    "from keras.layers.convolutional import MaxPooling2D\n",
    "from keras.utils import np_utils\n",
    "from keras import backend as K\n",
    "from keras import optimizers\n",
    "\n",
    "#K.set_image_dim_ordering('tf')\n",
    "\n",
    "# Constants\n",
    "\n",
    "C = 1 # Num of Channels\n",
    "NUM_PREV_FRAMES = 2 # Num of previous inputs fed into the autoregressive model \n",
    "\n",
    "INPUT_IMG_HEIGHT = 64\n",
    "INPUT_IMG_WIDTH = 64\n",
    "\n",
    "# Helpers\n",
    "\n",
    "def get_next_scale_factor(scales, scale_id):\n",
    "    return 1/(2**((scales -1) - scale_id))"
   ]
  },
  {
   "cell_type": "code",
   "execution_count": null,
   "metadata": {
    "collapsed": false
   },
   "outputs": [],
   "source": []
  },
  {
   "cell_type": "code",
   "execution_count": 22,
   "metadata": {
    "collapsed": false
   },
   "outputs": [],
   "source": [
    "import numpy as np\n",
    "import random\n",
    "\n",
    "data = np.load('mnist_test_seq.npy')\n",
    "\n",
    "# data has the shape (20, 10000, 64, 64) where \n",
    "# dimension 1: is number of frames (sequences)\n",
    "# dimension 2: is number of images (total samples)\n",
    "# dimension 3: is number of img height\n",
    "# dimension 4: is number of img width\n",
    "\n",
    "max_img = data.shape[1]\n",
    "\n",
    "batch_size = 5\n",
    "input_frames_size = NUM_PREV_FRAMES # num of history of frames to be fed into auto-regression network\n",
    "target_frames_size = 1\n",
    "img_h = 64\n",
    "img_w = 64\n",
    "max_seq = 20\n",
    "\n",
    "total_frames = input_frames_size+target_frames_size\n",
    "input_frames = np.empty([2*batch_size, total_frames, img_h, img_w])\n",
    "\n",
    "# network input shape(batch_size, img_h, img_w, total_frames)\n",
    "X_frames = np.empty([2*batch_size, img_h, img_w, total_frames])\n",
    "\n",
    "# two batch for discriminator and generator packed into one input\n",
    "for i in range(2*batch_size):\n",
    "    img_num = random.randint(0, max_img)\n",
    "    frame_num = random.randint(0, max_seq-5)\n",
    "    input_frames[i] = data[frame_num:frame_num+total_frames, img_num]\n",
    "    for j in range(total_frames):\n",
    "        X_frames[i,:,:,j] = data[frame_num+j, img_num]\n",
    "    \n"
   ]
  },
  {
   "cell_type": "code",
   "execution_count": 23,
   "metadata": {
    "collapsed": false
   },
   "outputs": [
    {
     "data": {
      "text/plain": [
       "(10, 64, 64, 3)"
      ]
     },
     "execution_count": 23,
     "metadata": {},
     "output_type": "execute_result"
    }
   ],
   "source": [
    "X_frames[:,:,:,:].shape"
   ]
  },
  {
   "cell_type": "code",
   "execution_count": null,
   "metadata": {
    "collapsed": true
   },
   "outputs": [],
   "source": []
  },
  {
   "cell_type": "code",
   "execution_count": 24,
   "metadata": {
    "collapsed": false
   },
   "outputs": [
    {
     "data": {
      "image/png": "[encoded data removed]",
      "text/plain": [
       "<matplotlib.figure.Figure at 0x1420e6208>"
      ]
     },
     "metadata": {},
     "output_type": "display_data"
    },
    {
     "data": {
      "image/png": "[encoded data removed]",
      "text/plain": [
       "<matplotlib.figure.Figure at 0x142b5d438>"
      ]
     },
     "metadata": {},
     "output_type": "display_data"
    },
    {
     "data": {
      "image/png": "[encoded data removed]",
      "text/plain": [
       "<matplotlib.figure.Figure at 0x142d4fcc0>"
      ]
     },
     "metadata": {},
     "output_type": "display_data"
    },
    {
     "data": {
      "image/png": "[encoded data removed]",
      "text/plain": [
       "<matplotlib.figure.Figure at 0x1470a7fd0>"
      ]
     },
     "metadata": {},
     "output_type": "display_data"
    },
    {
     "data": {
      "image/png": "[encoded data removed]",
      "text/plain": [
       "<matplotlib.figure.Figure at 0x147146400>"
      ]
     },
     "metadata": {},
     "output_type": "display_data"
    }
   ],
   "source": [
    "import matplotlib.pyplot as plt\n",
    "\n",
    "get_ipython().magic('matplotlib inline')\n",
    "\n",
    "for i in range(batch_size):\n",
    "    pixels = input_frames[i,NUM_PREV_FRAMES,:,:].reshape(64,64) #images[i][10]\n",
    "    plt.imshow(pixels, cmap='gray')\n",
    "    plt.show()"
   ]
  },
  {
   "cell_type": "code",
   "execution_count": 25,
   "metadata": {
    "collapsed": false
   },
   "outputs": [],
   "source": [
    "#plt.imshow(resize(pixels, [32,32]), cmap='gray')\n",
    "#plt.show()"
   ]
  },
  {
   "cell_type": "code",
   "execution_count": 120,
   "metadata": {
    "collapsed": false
   },
   "outputs": [],
   "source": [
    "class AutoRegressiveModel:\n",
    "    \"\"\"\n",
    "    Use previous trained subnetworks to predict more than one time\n",
    "    step ahead in time in autoregressive method\n",
    "    \"\"\"\n",
    "    def __init__(self, regression_level, epochs):\n",
    "        \"\"\"\n",
    "        \n",
    "        Args:\n",
    "            param1: regression_level - number of levels of recursion \n",
    "            param2: epochs\n",
    "            \n",
    "            \n",
    "        \"\"\"\n",
    "        self.epochs = epochs\n",
    "        self.current_step = 0\n",
    "        self.regression_level = regression_level\n",
    "        \n",
    "        num_scale_nets = 2\n",
    "        \n",
    "        \n",
    "        g_scale_fms = [[8, 16, 8, C], [8, 16, 8, C]]\n",
    "        g_scale_k_sizes = [[3 ,3 ,3 ,3], [5, 3, 3, 5]]\n",
    "    \n",
    "            \n",
    "        self.generator = GeneratorNetwork(INPUT_IMG_HEIGHT, #input height\n",
    "                                        INPUT_IMG_WIDTH, #input width\n",
    "                                        num_scale_nets,\n",
    "                                        g_scale_fms,\n",
    "                                        g_scale_k_sizes)\n",
    "        \n",
    "        \n",
    "        d_scale_fms = [[8], [8, 8, 16]]\n",
    "        d_scale_k_sizes = [[3], [5, 5, 5]]\n",
    "        d_scale_fc_sizes = [[32, 16, 1], [32, 16, 1]]\n",
    "        \n",
    "        self.disriminator = DisriminatorNetwork(INPUT_IMG_HEIGHT, #input height\n",
    "                                                INPUT_IMG_WIDTH, #input width\n",
    "                                                num_scale_nets,\n",
    "                                                d_scale_fms,\n",
    "                                                d_scale_k_sizes,\n",
    "                                                d_scale_fc_sizes)\n",
    "\n",
    "        \n",
    "    def train_ar_model(self, X_frames, batch_size):\n",
    "        # divide data into two separate batches for each network\n",
    "        d_input = X_frames[0:batch_size,:,:,0:NUM_PREV_FRAMES]\n",
    "        d_ground_t_seq = X_frames[0:batch_size,:,:,NUM_PREV_FRAMES:]\n",
    "        \n",
    "        g_input = X_frames[batch_size:,:,:,0:NUM_PREV_FRAMES]\n",
    "        g_ground_t_seq = X_frames[batch_size:,:,:,NUM_PREV_FRAMES:]\n",
    "        \n",
    "        for i in range(self.epochs):\n",
    "            self.disriminator.train(d_input, d_ground_t_seq, self.generator)\n",
    "            self.generator.train_model(g_input, g_ground_t_seq)\n",
    "            \n",
    "    \n",
    "    def test(self, test_frames, sample_size):\n",
    "        return self.generator.test_model(test_frames, sample_size)"
   ]
  },
  {
   "cell_type": "code",
   "execution_count": 130,
   "metadata": {
    "collapsed": false
   },
   "outputs": [],
   "source": [
    "from IPython.display import SVG\n",
    "from keras.utils.vis_utils import model_to_dot\n",
    "\n",
    "class GeneratorNetwork:\n",
    "    def __init__(self, input_height, input_width, num_scale_modules, \n",
    "                 scale_modules_fms_sizes, scale_modules_kernel_sizes):\n",
    "        \"\"\"\n",
    "        \n",
    "        Args:\n",
    "        \n",
    "            param1: input_height - image dim1\n",
    "            param2: input_width - image dim2\n",
    "            param3: num_scale_modules - subnetworks with distinct scales\n",
    "            param4: scale_modules_fms_sizes - conv layer feature maps list\n",
    "            param5: scale_modules_kernel_sizes - kernel size list\n",
    "            \n",
    "            \n",
    "        \"\"\"\n",
    "        self.input_height = input_height\n",
    "        self.input_width = input_width\n",
    "        assert len(scale_modules_fms_sizes) == num_scale_modules, 'fm sizes list must == num scale models'\n",
    "        self.scale_modules_fms_sizes = scale_modules_fms_sizes\n",
    "        assert len(scale_modules_kernel_sizes) == num_scale_modules, 'k sizes list must == num scale models'\n",
    "        self.scale_modules_kernel_sizes = scale_modules_kernel_sizes\n",
    "        self.num_scale_modules = num_scale_modules\n",
    "        \n",
    "    #def compute(self, input_height, input_width, ground_truth_seq, prev_frames):\n",
    "        \n",
    "    \n",
    "    def build_model(self):\n",
    "        \n",
    "        self.scale_modules = []\n",
    "        \n",
    "        # Storage for predicted and ground truth sequences\n",
    "        self.per_scale_output = []\n",
    "        self.per_scale_ground_truth_seq = []\n",
    "        self.d_net_outputs = []\n",
    "        \n",
    "        #self.per_scale_test = []\n",
    "        #self.per_scale_ground_truth_seq_test = []\n",
    "\n",
    "        self.input_frames = K.placeholder(shape=(None, self.input_height, \n",
    "                                                 self.input_width,\n",
    "                                                C * NUM_PREV_FRAMES))\n",
    "        self.ground_truth_frames = K.placeholder(shape=(None, self.input_height, \n",
    "                                                 self.input_width,\n",
    "                                                C))\n",
    "        \n",
    "        self.current_batch_size = self.input_frames[0]\n",
    "        \n",
    "        \n",
    "        for i in range(self.num_scale_modules):\n",
    "            model = Sequential()\n",
    "            for j in range(len(self.scale_modules_kernel_sizes[i])):\n",
    "                if j == 0:\n",
    "                    model.add(Conv2D(self.scale_modules_fms_sizes[i][j], \n",
    "                                  kernel_size=(self.scale_modules_kernel_sizes[i][j], \n",
    "                                                self.scale_modules_kernel_sizes[i][j]),\n",
    "                                  activation='relu', padding='same',\n",
    "                                  input_shape=(self.input_height, \n",
    "                                                 self.input_width,\n",
    "                                                C * NUM_PREV_FRAMES)))\n",
    "                elif j == (len(self.scale_modules_kernel_sizes[i])-1):\n",
    "                    model.add(Conv2D(self.scale_modules_fms_sizes[i][j], \n",
    "                                  kernel_size=(self.scale_modules_kernel_sizes[i][j], \n",
    "                                                self.scale_modules_kernel_sizes[i][j]),\n",
    "                                  activation='tanh', padding='same'))     \n",
    "                else:    \n",
    "                    model.add(Conv2D(self.scale_modules_fms_sizes[i][j], \n",
    "                                  kernel_size=(self.scale_modules_kernel_sizes[i][j], \n",
    "                                                self.scale_modules_kernel_sizes[i][j]),\n",
    "                                  activation='relu', padding='same'))                    \n",
    "               \n",
    "            self.scale_modules.append(model)\n",
    "\n",
    "            \n",
    "    def compile_model(self):\n",
    "        for i in range(self.num_scale_modules):\n",
    "            model = self.scale_modules[i]\n",
    "            model.compile(loss='binary_crossentropy',\n",
    "              optimizer='adam',\n",
    "              metrics=['accuracy'])\n",
    "            \n",
    "    def train_model(self, X_train, Y_train):\n",
    "        self.latest_predicted_frames = []\n",
    "        b = batch_size\n",
    "        for i in range(self.num_scale_modules):\n",
    "            model = self.scale_modules[i]\n",
    "            model.fit(X_train, Y_train, batch_size=b, nb_epoch=2, verbose=0)\n",
    "            self.latest_predicted_frames.append(model.predict(X_train, batch_size=b))\n",
    "            \n",
    "            \n",
    "    def test_model(self, test_frames, batch_size):\n",
    "        for i in range(self.num_scale_modules):\n",
    "            model = self.scale_modules[i]\n",
    "            frames = model.predict(test_frames, batch_size)\n",
    "        return frames "
   ]
  },
  {
   "cell_type": "code",
   "execution_count": 131,
   "metadata": {
    "collapsed": false
   },
   "outputs": [],
   "source": [
    "class ScaleModule:\n",
    "    \"\"\"\n",
    "    A ScaleModule is a convolutional network on its own. This module is a \n",
    "    subnetwork with a pre-specified scale in a larger muti-scale network. No \n",
    "    pooling is employed at ScaleModule level. \n",
    "    \n",
    "    The output of the coarser network (lower in scale) is used as an input to\n",
    "    the next scale module along with a copy of lower scale input.\n",
    "    \n",
    "    \"\"\"\n",
    "    def __init__(self, scale_id, img_h, img_w, conv_fms_sizes, kernel_sizes, fc_sizes):\n",
    "        \"\"\"\n",
    "        \n",
    "        Initialize the ScaleModule\n",
    "        \n",
    "        Args:\n",
    "        \n",
    "            param1: img_h - image dim1\n",
    "            param2: img_w - image dim2\n",
    "            param3: conv_fms_sizes - conv layer feature maps list\n",
    "            param4: kernel_sizes - kernel size list\n",
    "            param5: fc_sizes - fully connected layer size list\n",
    "        \n",
    "        \"\"\"\n",
    "        self.scale_id = scale_id\n",
    "        self.img_height = img_h\n",
    "        self.img_width = img_w\n",
    "        self.conv_fms_sizes = conv_fms_sizes\n",
    "        self.kernel_sizes = kernel_sizes\n",
    "        self.fc_sizes = fc_sizes\n",
    "            \n",
    "        \n",
    "    def build_model(self):\n",
    "        \"\"\"\n",
    "        Builds the model architecture from specified parameters\n",
    "        \"\"\"\n",
    "        print(\"build scale module in D\")\n",
    "        self.model = Sequential()\n",
    "        input_shape = (self.img_height, self.img_width, C)\n",
    "        \n",
    "        for i in range(len(self.kernel_sizes)):\n",
    "            if i == 0:\n",
    "                self.model.add(Conv2D(self.conv_fms_sizes[i], # fms = num of filters\n",
    "                                  kernel_size=(self.kernel_sizes[i], \n",
    "                                                self.kernel_sizes[i]),\n",
    "                                  activation='relu', padding='same',\n",
    "                                  input_shape=input_shape))\n",
    "            else:\n",
    "                self.model.add(Conv2D(self.conv_fms_sizes[i], # fms = num of filters\n",
    "                                  kernel_size=(self.kernel_sizes[i], \n",
    "                                                self.kernel_sizes[i]),\n",
    "                                  activation='relu', padding='same'))                \n",
    "        self.model.add(Flatten())\n",
    "        for i in range(len(self.fc_sizes)):\n",
    "            if i == len(self.fc_sizes) - 1:\n",
    "                act_type = 'tanh'\n",
    "            else:\n",
    "                act_type = 'relu'\n",
    "            print(\"Scaled FC dim: \", self.fc_sizes[i])    \n",
    "            self.model.add(Dense(self.fc_sizes[i], activation=act_type))\n",
    "        \n",
    "        sgd = optimizers.SGD(lr=0.01, decay=1e-6, momentum=0.9, nesterov=True)\n",
    "        self.model.compile(loss='mean_squared_error', optimizer=sgd)\n",
    "                 "
   ]
  },
  {
   "cell_type": "code",
   "execution_count": 132,
   "metadata": {
    "collapsed": false
   },
   "outputs": [],
   "source": [
    "import tensorflow as tf\n",
    "import numpy as np\n",
    "from skimage.transform import resize\n",
    "\n",
    "class DisriminatorNetwork:\n",
    "    \"\"\"\n",
    "        Contains 2 scale models\n",
    "    \"\"\"\n",
    "    def __init__(self, img_height, img_width, num_scale_modules, \n",
    "                 scale_modules_fms_sizes, scale_modules_kernel_sizes, \n",
    "                 scale_modules_fc_sizes):\n",
    "        \"\"\"\n",
    "        Args:\n",
    "            param1: img_height - image dim1\n",
    "            param2: img_weight - image dim2\n",
    "            param3: num_scale_modules - number of sub networks\n",
    "            param4: scale_modules_fms_sizes - conv layer feature maps list\n",
    "            param5: scale_modules_kernel_sizes - kernel size list\n",
    "            param6: scale_modules_fc_sizes - fully connected layer size list\n",
    "            \n",
    "        \"\"\"\n",
    "        self.img_height = img_height\n",
    "        self.img_width = img_width\n",
    "        assert len(scale_modules_fms_sizes) == num_scale_modules, 'fm sizes list must == num scale models'\n",
    "        self.scale_modules_fms_sizes = scale_modules_fms_sizes\n",
    "        assert len(scale_modules_kernel_sizes) == num_scale_modules, 'k sizes list must == num scale models'\n",
    "        self.scale_modules_kernel_sizes = scale_modules_kernel_sizes\n",
    "        assert len(scale_modules_fms_sizes) == num_scale_modules, 'fc sizes list must == num scale models'\n",
    "        self.scale_modules_fc_sizes = scale_modules_fc_sizes\n",
    "        self.num_scale_modules = num_scale_modules\n",
    "        \n",
    "        \n",
    "        \n",
    "    def build_model(self): \n",
    "        \"\"\"\n",
    "        Builds the model architecture from specified parameters\n",
    "        \"\"\"\n",
    "        self.scale_modules = []\n",
    "        \n",
    "        for i in range(self.num_scale_modules):\n",
    "            img_scaling_factor = get_next_scale_factor(self.num_scale_modules, i)\n",
    "            self.scale_modules.append(ScaleModule(i, \n",
    "                                                  int(img_scaling_factor * self.img_height),\n",
    "                                                 int(img_scaling_factor * self.img_width),\n",
    "                                                 self.scale_modules_fms_sizes[i],\n",
    "                                                 self.scale_modules_kernel_sizes[i],\n",
    "                                                 self.scale_modules_fc_sizes[i]))\n",
    "            self.scale_modules[i].build_model()\n",
    "            \n",
    "        \n",
    "    def train(self, batch_inputs, ground_truth_seq, generator):\n",
    "        \"\"\"\n",
    "        Each Input in batch has a ground truth sequence and a generator predicted frame\n",
    "         for Discriminator to be trained\n",
    "        \"\"\"\n",
    "        batches = batch_size\n",
    "        generator.train_model(batch_inputs, ground_truth_seq)\n",
    "        generator_pred_frames = np.asarray(generator.latest_predicted_frames) \n",
    "        self.latest_predicted_labels = []\n",
    "        # scale the input frames for modules \n",
    "        for i in range(self.num_scale_modules):\n",
    "         \n",
    "            scaled_ground_seq_frames = np.empty([self.num_scale_modules, batches, self.scale_modules[i].img_height, \n",
    "                                         self.scale_modules[i].img_width, C])\n",
    "            scaled_gen_pred_frames = np.empty([self.num_scale_modules, batches, self.scale_modules[i].img_height, \n",
    "                                         self.scale_modules[i].img_width, C])\n",
    "            for j in range(batch_size):\n",
    "                pixels = batch_inputs[i,:,:,0].reshape(64,64,C) \n",
    "                scaled_ground_seq_frames[i,j] = resize(pixels, [self.scale_modules[i].img_height, \n",
    "                                                    self.scale_modules[i].img_width, C])\n",
    "                pixels = np.tanh(generator_pred_frames[i,j]).reshape(64,64,C) \n",
    "                scaled_gen_pred_frames[i,j] = resize(pixels, [self.scale_modules[i].img_height, \n",
    "                                                    self.scale_modules[i].img_width, C])\n",
    "            \n",
    "            print(\"scaled_gen_pred_frames: \", scaled_gen_pred_frames[i].shape)\n",
    "            print(\"scaled_ground_seq_frames: \", scaled_ground_seq_frames[i].shape) \n",
    "            \n",
    "            total_input = np.concatenate([scaled_gen_pred_frames[i], scaled_ground_seq_frames[i]])\n",
    "            print(\"total_input: \", total_input.shape)\n",
    "            labels = np.concatenate([np.zeros([batches, 1]), np.ones([batches, 1])])\n",
    "            print(\"labels: \",labels)\n",
    "            model = self.scale_modules[i].model\n",
    "            model.fit(total_input, labels, batch_size=2*batches, nb_epoch=2, verbose=0)\n",
    "            self.latest_predicted_labels.append(model.predict(total_input, batch_size=batches))   "
   ]
  },
  {
   "cell_type": "code",
   "execution_count": 133,
   "metadata": {
    "collapsed": false
   },
   "outputs": [],
   "source": [
    "ar = AutoRegressiveModel(regression_level=2, epochs=2)"
   ]
  },
  {
   "cell_type": "code",
   "execution_count": 134,
   "metadata": {
    "collapsed": false
   },
   "outputs": [
    {
     "name": "stdout",
     "output_type": "stream",
     "text": [
      "build scale module in D\n",
      "Scaled FC dim:  32\n",
      "Scaled FC dim:  16\n",
      "Scaled FC dim:  1\n",
      "build scale module in D\n",
      "Scaled FC dim:  32\n",
      "Scaled FC dim:  16\n",
      "Scaled FC dim:  1\n"
     ]
    }
   ],
   "source": [
    "ar.disriminator.build_model()"
   ]
  },
  {
   "cell_type": "code",
   "execution_count": 135,
   "metadata": {
    "collapsed": false
   },
   "outputs": [],
   "source": [
    "ar.generator.build_model()"
   ]
  },
  {
   "cell_type": "code",
   "execution_count": 136,
   "metadata": {
    "collapsed": false
   },
   "outputs": [],
   "source": [
    "ar.generator.compile_model()"
   ]
  },
  {
   "cell_type": "code",
   "execution_count": 137,
   "metadata": {
    "collapsed": false
   },
   "outputs": [
    {
     "name": "stderr",
     "output_type": "stream",
     "text": [
      "/Library/Frameworks/Python.framework/Versions/3.5/lib/python3.5/site-packages/keras/models.py:834: UserWarning: The `nb_epoch` argument in `fit` has been renamed `epochs`.\n",
      "  warnings.warn('The `nb_epoch` argument in `fit` '\n",
      "/Library/Frameworks/Python.framework/Versions/3.5/lib/python3.5/site-packages/skimage/transform/_warps.py:84: UserWarning: The default mode, 'constant', will be changed to 'reflect' in skimage 0.15.\n",
      "  warn(\"The default mode, 'constant', will be changed to 'reflect' in \"\n",
      "/Library/Frameworks/Python.framework/Versions/3.5/lib/python3.5/site-packages/skimage/transform/_warps.py:84: UserWarning: The default mode, 'constant', will be changed to 'reflect' in skimage 0.15.\n",
      "  warn(\"The default mode, 'constant', will be changed to 'reflect' in \"\n",
      "/Library/Frameworks/Python.framework/Versions/3.5/lib/python3.5/site-packages/skimage/transform/_warps.py:84: UserWarning: The default mode, 'constant', will be changed to 'reflect' in skimage 0.15.\n",
      "  warn(\"The default mode, 'constant', will be changed to 'reflect' in \"\n",
      "/Library/Frameworks/Python.framework/Versions/3.5/lib/python3.5/site-packages/skimage/transform/_warps.py:84: UserWarning: The default mode, 'constant', will be changed to 'reflect' in skimage 0.15.\n",
      "  warn(\"The default mode, 'constant', will be changed to 'reflect' in \"\n",
      "/Library/Frameworks/Python.framework/Versions/3.5/lib/python3.5/site-packages/skimage/transform/_warps.py:84: UserWarning: The default mode, 'constant', will be changed to 'reflect' in skimage 0.15.\n",
      "  warn(\"The default mode, 'constant', will be changed to 'reflect' in \"\n",
      "/Library/Frameworks/Python.framework/Versions/3.5/lib/python3.5/site-packages/skimage/transform/_warps.py:84: UserWarning: The default mode, 'constant', will be changed to 'reflect' in skimage 0.15.\n",
      "  warn(\"The default mode, 'constant', will be changed to 'reflect' in \"\n",
      "/Library/Frameworks/Python.framework/Versions/3.5/lib/python3.5/site-packages/skimage/transform/_warps.py:84: UserWarning: The default mode, 'constant', will be changed to 'reflect' in skimage 0.15.\n",
      "  warn(\"The default mode, 'constant', will be changed to 'reflect' in \"\n",
      "/Library/Frameworks/Python.framework/Versions/3.5/lib/python3.5/site-packages/skimage/transform/_warps.py:84: UserWarning: The default mode, 'constant', will be changed to 'reflect' in skimage 0.15.\n",
      "  warn(\"The default mode, 'constant', will be changed to 'reflect' in \"\n",
      "/Library/Frameworks/Python.framework/Versions/3.5/lib/python3.5/site-packages/skimage/transform/_warps.py:84: UserWarning: The default mode, 'constant', will be changed to 'reflect' in skimage 0.15.\n",
      "  warn(\"The default mode, 'constant', will be changed to 'reflect' in \"\n",
      "/Library/Frameworks/Python.framework/Versions/3.5/lib/python3.5/site-packages/skimage/transform/_warps.py:84: UserWarning: The default mode, 'constant', will be changed to 'reflect' in skimage 0.15.\n",
      "  warn(\"The default mode, 'constant', will be changed to 'reflect' in \"\n",
      "/Library/Frameworks/Python.framework/Versions/3.5/lib/python3.5/site-packages/keras/models.py:834: UserWarning: The `nb_epoch` argument in `fit` has been renamed `epochs`.\n",
      "  warnings.warn('The `nb_epoch` argument in `fit` '\n"
     ]
    },
    {
     "name": "stdout",
     "output_type": "stream",
     "text": [
      "scaled_gen_pred_frames:  (5, 32, 32, 1)\n",
      "scaled_ground_seq_frames:  (5, 32, 32, 1)\n",
      "total_input:  (10, 32, 32, 1)\n",
      "labels:  [[ 0.]\n",
      " [ 0.]\n",
      " [ 0.]\n",
      " [ 0.]\n",
      " [ 0.]\n",
      " [ 1.]\n",
      " [ 1.]\n",
      " [ 1.]\n",
      " [ 1.]\n",
      " [ 1.]]\n"
     ]
    },
    {
     "name": "stderr",
     "output_type": "stream",
     "text": [
      "/Library/Frameworks/Python.framework/Versions/3.5/lib/python3.5/site-packages/skimage/transform/_warps.py:84: UserWarning: The default mode, 'constant', will be changed to 'reflect' in skimage 0.15.\n",
      "  warn(\"The default mode, 'constant', will be changed to 'reflect' in \"\n",
      "/Library/Frameworks/Python.framework/Versions/3.5/lib/python3.5/site-packages/skimage/transform/_warps.py:84: UserWarning: The default mode, 'constant', will be changed to 'reflect' in skimage 0.15.\n",
      "  warn(\"The default mode, 'constant', will be changed to 'reflect' in \"\n",
      "/Library/Frameworks/Python.framework/Versions/3.5/lib/python3.5/site-packages/skimage/transform/_warps.py:84: UserWarning: The default mode, 'constant', will be changed to 'reflect' in skimage 0.15.\n",
      "  warn(\"The default mode, 'constant', will be changed to 'reflect' in \"\n",
      "/Library/Frameworks/Python.framework/Versions/3.5/lib/python3.5/site-packages/skimage/transform/_warps.py:84: UserWarning: The default mode, 'constant', will be changed to 'reflect' in skimage 0.15.\n",
      "  warn(\"The default mode, 'constant', will be changed to 'reflect' in \"\n",
      "/Library/Frameworks/Python.framework/Versions/3.5/lib/python3.5/site-packages/skimage/transform/_warps.py:84: UserWarning: The default mode, 'constant', will be changed to 'reflect' in skimage 0.15.\n",
      "  warn(\"The default mode, 'constant', will be changed to 'reflect' in \"\n",
      "/Library/Frameworks/Python.framework/Versions/3.5/lib/python3.5/site-packages/skimage/transform/_warps.py:84: UserWarning: The default mode, 'constant', will be changed to 'reflect' in skimage 0.15.\n",
      "  warn(\"The default mode, 'constant', will be changed to 'reflect' in \"\n",
      "/Library/Frameworks/Python.framework/Versions/3.5/lib/python3.5/site-packages/skimage/transform/_warps.py:84: UserWarning: The default mode, 'constant', will be changed to 'reflect' in skimage 0.15.\n",
      "  warn(\"The default mode, 'constant', will be changed to 'reflect' in \"\n",
      "/Library/Frameworks/Python.framework/Versions/3.5/lib/python3.5/site-packages/skimage/transform/_warps.py:84: UserWarning: The default mode, 'constant', will be changed to 'reflect' in skimage 0.15.\n",
      "  warn(\"The default mode, 'constant', will be changed to 'reflect' in \"\n",
      "/Library/Frameworks/Python.framework/Versions/3.5/lib/python3.5/site-packages/skimage/transform/_warps.py:84: UserWarning: The default mode, 'constant', will be changed to 'reflect' in skimage 0.15.\n",
      "  warn(\"The default mode, 'constant', will be changed to 'reflect' in \"\n",
      "/Library/Frameworks/Python.framework/Versions/3.5/lib/python3.5/site-packages/skimage/transform/_warps.py:84: UserWarning: The default mode, 'constant', will be changed to 'reflect' in skimage 0.15.\n",
      "  warn(\"The default mode, 'constant', will be changed to 'reflect' in \"\n",
      "/Library/Frameworks/Python.framework/Versions/3.5/lib/python3.5/site-packages/keras/models.py:834: UserWarning: The `nb_epoch` argument in `fit` has been renamed `epochs`.\n",
      "  warnings.warn('The `nb_epoch` argument in `fit` '\n"
     ]
    },
    {
     "name": "stdout",
     "output_type": "stream",
     "text": [
      "scaled_gen_pred_frames:  (5, 64, 64, 1)\n",
      "scaled_ground_seq_frames:  (5, 64, 64, 1)\n",
      "total_input:  (10, 64, 64, 1)\n",
      "labels:  [[ 0.]\n",
      " [ 0.]\n",
      " [ 0.]\n",
      " [ 0.]\n",
      " [ 0.]\n",
      " [ 1.]\n",
      " [ 1.]\n",
      " [ 1.]\n",
      " [ 1.]\n",
      " [ 1.]]\n"
     ]
    },
    {
     "name": "stderr",
     "output_type": "stream",
     "text": [
      "/Library/Frameworks/Python.framework/Versions/3.5/lib/python3.5/site-packages/skimage/transform/_warps.py:84: UserWarning: The default mode, 'constant', will be changed to 'reflect' in skimage 0.15.\n",
      "  warn(\"The default mode, 'constant', will be changed to 'reflect' in \"\n",
      "/Library/Frameworks/Python.framework/Versions/3.5/lib/python3.5/site-packages/skimage/transform/_warps.py:84: UserWarning: The default mode, 'constant', will be changed to 'reflect' in skimage 0.15.\n",
      "  warn(\"The default mode, 'constant', will be changed to 'reflect' in \"\n",
      "/Library/Frameworks/Python.framework/Versions/3.5/lib/python3.5/site-packages/skimage/transform/_warps.py:84: UserWarning: The default mode, 'constant', will be changed to 'reflect' in skimage 0.15.\n",
      "  warn(\"The default mode, 'constant', will be changed to 'reflect' in \"\n",
      "/Library/Frameworks/Python.framework/Versions/3.5/lib/python3.5/site-packages/skimage/transform/_warps.py:84: UserWarning: The default mode, 'constant', will be changed to 'reflect' in skimage 0.15.\n",
      "  warn(\"The default mode, 'constant', will be changed to 'reflect' in \"\n",
      "/Library/Frameworks/Python.framework/Versions/3.5/lib/python3.5/site-packages/skimage/transform/_warps.py:84: UserWarning: The default mode, 'constant', will be changed to 'reflect' in skimage 0.15.\n",
      "  warn(\"The default mode, 'constant', will be changed to 'reflect' in \"\n",
      "/Library/Frameworks/Python.framework/Versions/3.5/lib/python3.5/site-packages/skimage/transform/_warps.py:84: UserWarning: The default mode, 'constant', will be changed to 'reflect' in skimage 0.15.\n",
      "  warn(\"The default mode, 'constant', will be changed to 'reflect' in \"\n",
      "/Library/Frameworks/Python.framework/Versions/3.5/lib/python3.5/site-packages/skimage/transform/_warps.py:84: UserWarning: The default mode, 'constant', will be changed to 'reflect' in skimage 0.15.\n",
      "  warn(\"The default mode, 'constant', will be changed to 'reflect' in \"\n",
      "/Library/Frameworks/Python.framework/Versions/3.5/lib/python3.5/site-packages/skimage/transform/_warps.py:84: UserWarning: The default mode, 'constant', will be changed to 'reflect' in skimage 0.15.\n",
      "  warn(\"The default mode, 'constant', will be changed to 'reflect' in \"\n",
      "/Library/Frameworks/Python.framework/Versions/3.5/lib/python3.5/site-packages/skimage/transform/_warps.py:84: UserWarning: The default mode, 'constant', will be changed to 'reflect' in skimage 0.15.\n",
      "  warn(\"The default mode, 'constant', will be changed to 'reflect' in \"\n",
      "/Library/Frameworks/Python.framework/Versions/3.5/lib/python3.5/site-packages/skimage/transform/_warps.py:84: UserWarning: The default mode, 'constant', will be changed to 'reflect' in skimage 0.15.\n",
      "  warn(\"The default mode, 'constant', will be changed to 'reflect' in \"\n",
      "/Library/Frameworks/Python.framework/Versions/3.5/lib/python3.5/site-packages/keras/models.py:834: UserWarning: The `nb_epoch` argument in `fit` has been renamed `epochs`.\n",
      "  warnings.warn('The `nb_epoch` argument in `fit` '\n",
      "/Library/Frameworks/Python.framework/Versions/3.5/lib/python3.5/site-packages/skimage/transform/_warps.py:84: UserWarning: The default mode, 'constant', will be changed to 'reflect' in skimage 0.15.\n",
      "  warn(\"The default mode, 'constant', will be changed to 'reflect' in \"\n",
      "/Library/Frameworks/Python.framework/Versions/3.5/lib/python3.5/site-packages/skimage/transform/_warps.py:84: UserWarning: The default mode, 'constant', will be changed to 'reflect' in skimage 0.15.\n",
      "  warn(\"The default mode, 'constant', will be changed to 'reflect' in \"\n",
      "/Library/Frameworks/Python.framework/Versions/3.5/lib/python3.5/site-packages/skimage/transform/_warps.py:84: UserWarning: The default mode, 'constant', will be changed to 'reflect' in skimage 0.15.\n",
      "  warn(\"The default mode, 'constant', will be changed to 'reflect' in \"\n",
      "/Library/Frameworks/Python.framework/Versions/3.5/lib/python3.5/site-packages/skimage/transform/_warps.py:84: UserWarning: The default mode, 'constant', will be changed to 'reflect' in skimage 0.15.\n",
      "  warn(\"The default mode, 'constant', will be changed to 'reflect' in \"\n",
      "/Library/Frameworks/Python.framework/Versions/3.5/lib/python3.5/site-packages/skimage/transform/_warps.py:84: UserWarning: The default mode, 'constant', will be changed to 'reflect' in skimage 0.15.\n",
      "  warn(\"The default mode, 'constant', will be changed to 'reflect' in \"\n",
      "/Library/Frameworks/Python.framework/Versions/3.5/lib/python3.5/site-packages/skimage/transform/_warps.py:84: UserWarning: The default mode, 'constant', will be changed to 'reflect' in skimage 0.15.\n",
      "  warn(\"The default mode, 'constant', will be changed to 'reflect' in \"\n",
      "/Library/Frameworks/Python.framework/Versions/3.5/lib/python3.5/site-packages/skimage/transform/_warps.py:84: UserWarning: The default mode, 'constant', will be changed to 'reflect' in skimage 0.15.\n",
      "  warn(\"The default mode, 'constant', will be changed to 'reflect' in \"\n",
      "/Library/Frameworks/Python.framework/Versions/3.5/lib/python3.5/site-packages/skimage/transform/_warps.py:84: UserWarning: The default mode, 'constant', will be changed to 'reflect' in skimage 0.15.\n",
      "  warn(\"The default mode, 'constant', will be changed to 'reflect' in \"\n",
      "/Library/Frameworks/Python.framework/Versions/3.5/lib/python3.5/site-packages/skimage/transform/_warps.py:84: UserWarning: The default mode, 'constant', will be changed to 'reflect' in skimage 0.15.\n",
      "  warn(\"The default mode, 'constant', will be changed to 'reflect' in \"\n",
      "/Library/Frameworks/Python.framework/Versions/3.5/lib/python3.5/site-packages/skimage/transform/_warps.py:84: UserWarning: The default mode, 'constant', will be changed to 'reflect' in skimage 0.15.\n",
      "  warn(\"The default mode, 'constant', will be changed to 'reflect' in \"\n",
      "/Library/Frameworks/Python.framework/Versions/3.5/lib/python3.5/site-packages/keras/models.py:834: UserWarning: The `nb_epoch` argument in `fit` has been renamed `epochs`.\n",
      "  warnings.warn('The `nb_epoch` argument in `fit` '\n"
     ]
    },
    {
     "name": "stdout",
     "output_type": "stream",
     "text": [
      "scaled_gen_pred_frames:  (5, 32, 32, 1)\n",
      "scaled_ground_seq_frames:  (5, 32, 32, 1)\n",
      "total_input:  (10, 32, 32, 1)\n",
      "labels:  [[ 0.]\n",
      " [ 0.]\n",
      " [ 0.]\n",
      " [ 0.]\n",
      " [ 0.]\n",
      " [ 1.]\n",
      " [ 1.]\n",
      " [ 1.]\n",
      " [ 1.]\n",
      " [ 1.]]\n",
      "scaled_gen_pred_frames:  (5, 64, 64, 1)\n",
      "scaled_ground_seq_frames:  (5, 64, 64, 1)\n",
      "total_input:  (10, 64, 64, 1)\n",
      "labels:  [[ 0.]\n",
      " [ 0.]\n",
      " [ 0.]\n",
      " [ 0.]\n",
      " [ 0.]\n",
      " [ 1.]\n",
      " [ 1.]\n",
      " [ 1.]\n",
      " [ 1.]\n",
      " [ 1.]]\n"
     ]
    }
   ],
   "source": [
    "ar.train_ar_model(X_frames,batch_size)"
   ]
  },
  {
   "cell_type": "code",
   "execution_count": 142,
   "metadata": {
    "collapsed": false
   },
   "outputs": [],
   "source": [
    "predicted_frames = ar.test(X_frames[:,:,:,0:2],batch_size)"
   ]
  },
  {
   "cell_type": "code",
   "execution_count": 147,
   "metadata": {
    "collapsed": false
   },
   "outputs": [
    {
     "data": {
      "image/png": "[encoded data removed]",
      "text/plain": [
       "<matplotlib.figure.Figure at 0x14db02390>"
      ]
     },
     "metadata": {},
     "output_type": "display_data"
    },
    {
     "data": {
      "image/png": "[encoded data removed]",
      "text/plain": [
       "<matplotlib.figure.Figure at 0x14b93a5c0>"
      ]
     },
     "metadata": {},
     "output_type": "display_data"
    },
    {
     "data": {
      "image/png": "[encoded data removed]",
      "text/plain": [
       "<matplotlib.figure.Figure at 0x14db0b470>"
      ]
     },
     "metadata": {},
     "output_type": "display_data"
    },
    {
     "data": {
      "image/png": "[encoded data removed]",
      "text/plain": [
       "<matplotlib.figure.Figure at 0x149eb7240>"
      ]
     },
     "metadata": {},
     "output_type": "display_data"
    },
    {
     "data": {
      "image/png": "[encoded data removed]",
      "text/plain": [
       "<matplotlib.figure.Figure at 0x14b95eeb8>"
      ]
     },
     "metadata": {},
     "output_type": "display_data"
    },
    {
     "data": {
      "image/png": "[encoded data removed]",
      "text/plain": [
       "<matplotlib.figure.Figure at 0x14e9ade80>"
      ]
     },
     "metadata": {},
     "output_type": "display_data"
    },
    {
     "data": {
      "image/png": "[encoded data removed]",
      "text/plain": [
       "<matplotlib.figure.Figure at 0x14e9fbb00>"
      ]
     },
     "metadata": {},
     "output_type": "display_data"
    },
    {
     "data": {
      "image/png": "[encoded data removed]",
      "text/plain": [
       "<matplotlib.figure.Figure at 0x14ea8fac8>"
      ]
     },
     "metadata": {},
     "output_type": "display_data"
    },
    {
     "data": {
      "image/png": "[encoded data removed]",
      "text/plain": [
       "<matplotlib.figure.Figure at 0x1516bbe80>"
      ]
     },
     "metadata": {},
     "output_type": "display_data"
    },
    {
     "data": {
      "image/png": "[encoded data removed]",
      "text/plain": [
       "<matplotlib.figure.Figure at 0x14eddb1d0>"
      ]
     },
     "metadata": {},
     "output_type": "display_data"
    }
   ],
   "source": [
    "import matplotlib.pyplot as plt\n",
    "\n",
    "get_ipython().magic('matplotlib inline')\n",
    "\n",
    "for i in range(batch_size):\n",
    "    pixels = predicted_frames[0,:,:,0].reshape(64,64) #images[i][10]\n",
    "    plt.imshow(pixels, cmap='gray')\n",
    "    plt.show()\n",
    "    \n",
    "    pixels = X_frames[0,:,:,0].reshape(64,64) #images[i][10]\n",
    "    plt.imshow(pixels, cmap='gray')\n",
    "    \n",
    "    plt.show()\n",
    "    "
   ]
  }
 ],
 "metadata": {
  "anaconda-cloud": {},
  "kernelspec": {
   "display_name": "Python 3",
   "language": "python",
   "name": "python3"
  },
  "language_info": {
   "codemirror_mode": {
    "name": "ipython",
    "version": 3
   },
   "file_extension": ".py",
   "mimetype": "text/x-python",
   "name": "python",
   "nbconvert_exporter": "python",
   "pygments_lexer": "ipython3",
   "version": "3.5.1"
  },
  "latex_envs": {
   "bibliofile": "biblio.bib",
   "cite_by": "apalike",
   "current_citInitial": 1,
   "eqLabelWithNumbers": true,
   "eqNumInitial": 0
  },
  "toc": {
   "toc_cell": true,
   "toc_number_sections": true,
   "toc_threshold": "6",
   "toc_window_display": true
  }
 },
 "nbformat": 4,
 "nbformat_minor": 0
}
